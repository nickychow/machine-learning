{
 "cells": [
  {
   "cell_type": "markdown",
   "metadata": {},
   "source": [
    "# Machine Learning: Programming Exercise 2\n"
   ]
  },
  {
   "cell_type": "markdown",
   "metadata": {},
   "source": [
    "## Logistic Regression\n",
    "In this exercise, you will implement logistic regression and apply it to two different datasets."
   ]
  },
  {
   "cell_type": "markdown",
   "metadata": {},
   "source": [
    "## 1. Logistic Regression\n",
    "\n",
    "In this part of the exercise, you will build a logistic regression model to predict whether a student gets admitted into a university. Suppose that you are the administrator of a university department and you want to determine each applicant's chance of admission based on their results on two exams. You have historical data from previous applicants that you can use as a training set for logistic regression. For each training example, you have the applicant's scores on two exams and the admissions decision.\n",
    "\n",
    "Your task is to build a classification model that estimates an applicant's probability of admission based the scores from those two exams.\n",
    "\n",
    "To begin, run the code below to load the data into Notebook."
   ]
  },
  {
   "cell_type": "code",
   "execution_count": 1,
   "metadata": {},
   "outputs": [],
   "source": [
    "import numpy as np\n",
    "import pandas as pd\n",
    "import matplotlib.pylab as plt\n",
    "\n",
    "%matplotlib inline"
   ]
  },
  {
   "cell_type": "code",
   "execution_count": 43,
   "metadata": {},
   "outputs": [
    {
     "data": {
      "text/html": [
       "<div>\n",
       "<style scoped>\n",
       "    .dataframe tbody tr th:only-of-type {\n",
       "        vertical-align: middle;\n",
       "    }\n",
       "\n",
       "    .dataframe tbody tr th {\n",
       "        vertical-align: top;\n",
       "    }\n",
       "\n",
       "    .dataframe thead th {\n",
       "        text-align: right;\n",
       "    }\n",
       "</style>\n",
       "<table border=\"1\" class=\"dataframe\">\n",
       "  <thead>\n",
       "    <tr style=\"text-align: right;\">\n",
       "      <th></th>\n",
       "      <th>Exam 1 Score</th>\n",
       "      <th>Exam 2 Score</th>\n",
       "      <th>Admitted</th>\n",
       "    </tr>\n",
       "  </thead>\n",
       "  <tbody>\n",
       "    <tr>\n",
       "      <th>0</th>\n",
       "      <td>34.623660</td>\n",
       "      <td>78.024693</td>\n",
       "      <td>0</td>\n",
       "    </tr>\n",
       "    <tr>\n",
       "      <th>1</th>\n",
       "      <td>30.286711</td>\n",
       "      <td>43.894998</td>\n",
       "      <td>0</td>\n",
       "    </tr>\n",
       "    <tr>\n",
       "      <th>2</th>\n",
       "      <td>35.847409</td>\n",
       "      <td>72.902198</td>\n",
       "      <td>0</td>\n",
       "    </tr>\n",
       "    <tr>\n",
       "      <th>3</th>\n",
       "      <td>60.182599</td>\n",
       "      <td>86.308552</td>\n",
       "      <td>1</td>\n",
       "    </tr>\n",
       "    <tr>\n",
       "      <th>4</th>\n",
       "      <td>79.032736</td>\n",
       "      <td>75.344376</td>\n",
       "      <td>1</td>\n",
       "    </tr>\n",
       "  </tbody>\n",
       "</table>\n",
       "</div>"
      ],
      "text/plain": [
       "   Exam 1 Score  Exam 2 Score  Admitted\n",
       "0     34.623660     78.024693         0\n",
       "1     30.286711     43.894998         0\n",
       "2     35.847409     72.902198         0\n",
       "3     60.182599     86.308552         1\n",
       "4     79.032736     75.344376         1"
      ]
     },
     "execution_count": 43,
     "metadata": {},
     "output_type": "execute_result"
    }
   ],
   "source": [
    "# start by loading the data\n",
    "data = pd.read_csv('ex2data1.txt', header=None, names=[\n",
    "                   \"Exam 1 Score\", \"Exam 2 Score\", \"Admitted\"])\n",
    "data.head()"
   ]
  },
  {
   "cell_type": "code",
   "execution_count": 58,
   "metadata": {},
   "outputs": [
    {
     "data": {
      "text/plain": [
       "(array([[34.62365962, 78.02469282],\n",
       "        [30.28671077, 43.89499752],\n",
       "        [35.84740877, 72.90219803],\n",
       "        [60.18259939, 86.3085521 ],\n",
       "        [79.03273605, 75.34437644]]),\n",
       " array([[0],\n",
       "        [0],\n",
       "        [0],\n",
       "        [1],\n",
       "        [1]]))"
      ]
     },
     "execution_count": 58,
     "metadata": {},
     "output_type": "execute_result"
    }
   ],
   "source": [
    "m = len(data)\n",
    "\n",
    "X = np.append(np.array(data[\"Exam 1 Score\"]).reshape((m,1)),np.array(data[\"Exam 2 Score\"]).reshape((m,1)),axis=1)\n",
    "y = np.array(data[\"Admitted\"]).reshape((m,1))\n",
    "\n",
    "X[:5], y[:5]"
   ]
  },
  {
   "cell_type": "markdown",
   "metadata": {},
   "source": [
    "### 1.1 Visualizing the data\n",
    "\n",
    "Before starting to implement any learning algorithm, it is always good to visualize the data if possible. The code below will load the data and display it on a 2-dimensional plot. You will now complete the code so that it displays a figure like Figure 1, where the axes are the two exam scores, and the positive and negative examples are shown with different markers."
   ]
  },
  {
   "cell_type": "code",
   "execution_count": 11,
   "metadata": {},
   "outputs": [
    {
     "data": {
      "image/png": "[encoded data removed]",
      "text/plain": [
       "<Figure size 432x288 with 1 Axes>"
      ]
     },
     "metadata": {
      "needs_background": "light"
     },
     "output_type": "display_data"
    }
   ],
   "source": [
    "# Find indices of positive and negative examples\n",
    "pos = np.where(y==1)[0]\n",
    "neg = np.where(y==0)[0]\n",
    "\n",
    "# Plot examples\n",
    "plt.plot(X[pos,0],X[pos,1],'k+',linewidth=2,markersize=7,label='Admitted')\n",
    "plt.plot(X[neg,0],X[neg,1],'ko',markerfacecolor='y',markersize=7,label='Not Admitted')\n",
    "plt.xlabel('Exam 1 Score')\n",
    "plt.ylabel('Exam 2 Score')\n",
    "plt.legend(loc='upper right')\n",
    "plt.title('Figure 1: Scatter plot of training data')\n",
    "plt.show()"
   ]
  },
  {
   "cell_type": "markdown",
   "metadata": {},
   "source": [
    "### 1.2 Implementation\n",
    "\n",
    "#### 1.2.1 Warmup exercise: sigmoid function\n",
    "\n",
    "Before you start with the actual cost function, recall that the logistic regression hypothesis is defined as:\n",
    "\n",
    "$$\n",
    "h_{\\theta}(x) = g(\\theta^Tx),\n",
    "$$\n",
    "\n",
    "where function  is the sigmoid function. The sigmoid function is defined as:\n",
    "\n",
    "$$\n",
    "g(z) = \\frac{1}{1+e^{-z}}\n",
    "$$\n",
    "\n",
    "Your first step is to implement this function in sigmoid so it can be called by the rest of your program. When you are finished, try testing a few values by calling sigmoid(x) in the code section below. For large positive values of x, the sigmoid should be close to 1, while for large negative values, the sigmoid should be close to 0. Evaluating sigmoid(0) should give you exactly 0.5. Your code should also work with vectors and matrices. For a matrix, your function should perform the sigmoid function on every element."
   ]
  },
  {
   "cell_type": "markdown",
   "metadata": {},
   "source": [
    "The sigmoid function, or logistic function, is a function that asymptotes at 0 and 1. The value at 0 is $\\frac{1}{2}$.\n",
    "\n",
    "$$\n",
    "h_\\theta(x) = g(\\theta^Tx) = g(z) = \\frac{1}{1+ e^{-z}} = \\frac{1}{1+ e^{-\\theta^Tx}}\n",
    "$$\n",
    "\n",
    "A plot of the sigmoid function: sigmoid\n",
    "\n",
    "![sigmoid](https://github.com/rickwierenga/CS229-Python/raw/8c899e94c7bdf60031ce0b80402285820ce1cb44/ex2/notes/sigmoid.png)\n",
    "\n",
    "We are going to use the sigmoid function to predict how likely it is that a given data point is in category 0. Our hypothesis:\n",
    "\n",
    "$$\n",
    "h_\\theta(x) = P(y = 0|x;\\theta)\n",
    "$$\n",
    "\n",
    "Because there are only two categories (in this case), we can derrive that:\n",
    "\n",
    "$$\n",
    "P(y = 0|x;\\theta) + P(y = 1|x;\\theta)= 1\n",
    "$$\n",
    "\n",
    "**Exercise:** Implement the sigmoid function in Python."
   ]
  },
  {
   "cell_type": "code",
   "execution_count": 2,
   "metadata": {},
   "outputs": [],
   "source": [
    "def sigmoid(z):\n",
    "    return 1/(1+np.exp(-z))"
   ]
  },
  {
   "cell_type": "code",
   "execution_count": 14,
   "metadata": {},
   "outputs": [
    {
     "data": {
      "text/plain": [
       "0.5"
      ]
     },
     "execution_count": 14,
     "metadata": {},
     "output_type": "execute_result"
    }
   ],
   "source": [
    "# TEST CASE\n",
    "sigmoid(0)"
   ]
  },
  {
   "cell_type": "markdown",
   "metadata": {},
   "source": [
    "#### 1.2.2 Cost function and gradient\n",
    "\n",
    "Now you will implement the cost function and gradient for logistic regression. Complete the code in costFunction to return the cost and gradient. Recall that the cost function in logistic regression is\n",
    "\n",
    "$$\n",
    "J(\\theta) =\\frac{1}{m}\\sum_{i=1}^m\\left[\n",
    "-y^{(i)} \\log(h_{\\theta}(x^{(i)}))- (1 -y^{(i)}) \\log(1- h_{\\theta}(x^{(i)}))\\right]\n",
    "$$\n",
    "\n",
    "Assume our hypothesis for an example is wrong, the higher probability $h_\\theta$ had predicted, the higher the penatly.\n",
    "A vectorized implementation of the cost function:\n",
    "\n",
    "$$\n",
    "J(\\theta) = \\frac{1}{m} ⋅(−y^T \\log(h)−(1−y)^T \\log(1−h))\n",
    "$$\n",
    "\n",
    "and the gradient of the cost is a vector of the same length as $\\theta$ where the $J$th element (for $j = 0,\\; 1,\\ldots, n$) is defined as follows:\n",
    "\n",
    "$$\n",
    "\\frac{\\partial J(\\theta)}{\\partial \\theta_j} = \\frac{1}{m}\\sum_{i=1}^m\\left( h_\\theta(x^{(i)})-y^{(i)}\\right)x_j^{(i)}\n",
    "$$\n",
    "\n",
    "Note that while this gradient looks identical to the linear regression gradient, the formula is actually different because linear and logistic regression have different definitions of $h_{\\theta}(x)$. Once you are done, run the code sections below to set up your data and call your costFunction using two sets of initial values of $\\theta$.\n",
    "\n",
    "Vectorized:\n",
    "\n",
    "$$\n",
    "\\frac{\\delta}{\\delta\\theta_J} = \\frac{1}{m} \\cdot X^T \\cdot (g(X\\cdot\\theta)-\\vec{y})\n",
    "$$\n",
    "\n",
    "##### Initialize the data"
   ]
  },
  {
   "cell_type": "code",
   "execution_count": 59,
   "metadata": {},
   "outputs": [],
   "source": [
    "# Setup the data matrix appropriately\n",
    "m, n = X.shape\n",
    "\n",
    "# Add intercept term to X\n",
    "X = np.append(np.ones((m,1)),X,axis=1)\n",
    "\n",
    "# Initialize the fitting parameters\n",
    "# initial_theta = np.zeros((n + 1, 1))\n",
    "initial_theta = np.zeros(n + 1) # to be able to use scipy optimize, theta must be shape (n,)\n"
   ]
  },
  {
   "cell_type": "code",
   "execution_count": 70,
   "metadata": {},
   "outputs": [
    {
     "data": {
      "text/plain": [
       "array([0.5, 0.5, 0.5, 0.5, 0.5, 0.5, 0.5, 0.5, 0.5, 0.5, 0.5, 0.5, 0.5,\n",
       "       0.5, 0.5, 0.5, 0.5, 0.5, 0.5, 0.5, 0.5, 0.5, 0.5, 0.5, 0.5, 0.5,\n",
       "       0.5, 0.5, 0.5, 0.5, 0.5, 0.5, 0.5, 0.5, 0.5, 0.5, 0.5, 0.5, 0.5,\n",
       "       0.5, 0.5, 0.5, 0.5, 0.5, 0.5, 0.5, 0.5, 0.5, 0.5, 0.5, 0.5, 0.5,\n",
       "       0.5, 0.5, 0.5, 0.5, 0.5, 0.5, 0.5, 0.5, 0.5, 0.5, 0.5, 0.5, 0.5,\n",
       "       0.5, 0.5, 0.5, 0.5, 0.5, 0.5, 0.5, 0.5, 0.5, 0.5, 0.5, 0.5, 0.5,\n",
       "       0.5, 0.5, 0.5, 0.5, 0.5, 0.5, 0.5, 0.5, 0.5, 0.5, 0.5, 0.5, 0.5,\n",
       "       0.5, 0.5, 0.5, 0.5, 0.5, 0.5, 0.5, 0.5, 0.5])"
      ]
     },
     "execution_count": 70,
     "metadata": {},
     "output_type": "execute_result"
    }
   ],
   "source": [
    "sigmoid(X @ initial_theta)\n"
   ]
  },
  {
   "cell_type": "markdown",
   "metadata": {},
   "source": [
    "##### Compute the gradient\n",
    "\n",
    "You should see that the cost is about 0.693 and gradients of about -0.1000,  -12.0092, and -11.2628 for all-zero $\\theta$, and that the cost is 0.219 with gradients of 0.043, 2.566, 2.640 for non-zero $\\theta$.\n",
    "\n",
    "**Exercise:** Write a function to compute the gradient."
   ]
  },
  {
   "cell_type": "code",
   "execution_count": 61,
   "metadata": {},
   "outputs": [],
   "source": [
    "def cost_function(theta, X, y):\n",
    "    m = len(y)\n",
    "    h = sigmoid(X @ theta)\n",
    "    J = 1/m * (-y.T @ np.log(h) - (1-y).T @ np.log(1-h))\n",
    "    grad = 1/m * X.T @ (h - y.reshape(m))\n",
    "\n",
    "    return J, grad"
   ]
  },
  {
   "cell_type": "code",
   "execution_count": 62,
   "metadata": {},
   "outputs": [
    {
     "name": "stdout",
     "output_type": "stream",
     "text": [
      "Cost: \n",
      "[0.69314718]\n",
      "\n",
      "Gradient: \n",
      "[ -0.1        -12.00921659 -11.26284221]\n"
     ]
    },
    {
     "data": {
      "text/plain": [
       "(3,)"
      ]
     },
     "execution_count": 62,
     "metadata": {},
     "output_type": "execute_result"
    }
   ],
   "source": [
    "# TEST CASE\n",
    "cost, grad = cost_function(initial_theta, X, y)\n",
    "\n",
    "print('Cost: \\n{}\\n'.format(cost))\n",
    "print('Gradient: \\n{}'.format(grad))\n",
    "grad.shape\n"
   ]
  },
  {
   "cell_type": "code",
   "execution_count": 64,
   "metadata": {},
   "outputs": [
    {
     "name": "stdout",
     "output_type": "stream",
     "text": [
      "Cost: \n",
      "[0.21833019]\n",
      "\n",
      "Gradient: \n",
      "[0.04290299 2.56623412 2.64679737]\n"
     ]
    }
   ],
   "source": [
    "test_theta = np.array([[-24],[0.2],[0.2]]).reshape(3)\n",
    "t_cost, t_grad = cost_function(test_theta, X, y)\n",
    "\n",
    "print('Cost: \\n{}\\n'.format(t_cost))\n",
    "print('Gradient: \\n{}'.format(t_grad))\n"
   ]
  },
  {
   "cell_type": "markdown",
   "metadata": {},
   "source": [
    "#### 1.2.3 Learning parameters using conjugate gradient\n",
    "\n",
    "In the previous assignment, you found the optimal parameters of a linear regression model by implementing gradent descent. You wrote a cost function and calculated its gradient, then took a gradient descent step accordingly. This time, instead of taking gradient descent steps, you will use a MATLAB built-in function called `fminunc`.\n",
    "\n",
    "`fminunc` is an optimization solver that finds the minimum of an unconstrained* function. For logistic regression, you want to optimize the cost function $J(\\theta)$ with parameters. Concretely, you are going to use `fminunc` to find the best parameters $\\theta$ for the logistic regression cost function, given a fixed dataset (of $X$ and $y$ values). You will pass to fminunc the following inputs:\n",
    "\n",
    "- The initial values of the parameters we are trying to optimize.\n",
    "- A function that, when given the training set and a particular $\\theta$ computes the logistic regression cost and gradient with respect to $\\theta$ for the dataset $(X,y)$\n",
    "\n",
    "**Constraints in optimization often refer to constraints on the parameters, for example, constraints that bound the possible values $\\theta$ can take (e.g. $\\theta < 1$). Logistic regression does not have such constraints since $\\theta$ is allowed to take any real value.*\n",
    "\n",
    "But in Python, the optimization library we are going to use is `scipy.optimize`. We have to provide the algorithm with our cost function, initial guess, gradient among with some other (optional) configuration options.\n",
    "\n",
    "Please scan [the docs](https://docs.scipy.org/doc/scipy/reference/generated/scipy.optimize.minimize.html) of minimize first."
   ]
  },
  {
   "cell_type": "code",
   "execution_count": 65,
   "metadata": {},
   "outputs": [],
   "source": [
    "# Original cost_function returns the cost and gradient, but we want to use scipy's minimize function, so we need to write a wrapper function.\n",
    "\n",
    "def compute_cost(theta, X, y):\n",
    "    m = len(y)\n",
    "    h = sigmoid(X @ theta)\n",
    "    J = 1/m * (-y.T @ np.log(h) - (1-y).T @ np.log(1-h))\n",
    "    return J\n",
    "\n",
    "\n",
    "def compute_gradient(theta, X, y):\n",
    "    m = len(y)\n",
    "    n = len(theta)\n",
    "    h = sigmoid(X @ theta)\n",
    "    grad = 1/m * X.T @ (h - y.reshape(m))\n",
    "    return grad.reshape((n,))\n"
   ]
  },
  {
   "cell_type": "code",
   "execution_count": 66,
   "metadata": {},
   "outputs": [
    {
     "name": "stderr",
     "output_type": "stream",
     "text": [
      "  NIT   NF   F                       GTG\n",
      "    0    1  6.931471805599452E-01   2.71082898E+02\n",
      "    1    3  6.318123602631416E-01   7.89087138E-01\n",
      "    2    5  5.892425214503384E-01   7.39226671E+01\n",
      "    3    7  4.227823902747544E-01   1.85265650E+01\n",
      "    4    9  4.072926903020122E-01   1.68671144E+01\n",
      "    5   11  3.818854748677483E-01   1.07735086E+01\n",
      "    6   13  3.786234690559758E-01   2.31584962E+01\n",
      "tnc: stepmx = 1000\n",
      "    7   16  2.389267693103166E-01   3.00821519E+00\n",
      "    8   18  2.047203877575086E-01   1.52227298E-01\n",
      "    9   20  2.046713887589159E-01   6.62494295E-02\n",
      "   10   22  2.035303163564867E-01   9.30778910E-04\n",
      "tnc: fscale = 32.7776\n",
      "   11   24  2.035293522492246E-01   8.07225207E-06\n",
      "   12   26  2.035251114859156E-01   1.80211289E-04\n",
      "   13   28  2.034984103418146E-01   5.02842173E-04\n",
      "   14   30  2.034978377380883E-01   9.88323635E-06\n",
      "   15   32  2.034977904590652E-01   3.76655473E-06\n",
      "   16   34  2.034977386541594E-01   1.94004524E-05\n",
      "   17   36  2.034977015894746E-01   2.31615588E-13\n",
      "tnc: |pg| = 1.46827e-08 -> local minimum\n",
      "   17   36  2.034977015894746E-01   2.31615588E-13\n",
      "tnc: Local minima reach (|pg| ~= 0)\n"
     ]
    },
    {
     "data": {
      "text/plain": [
       "(array([-25.16131863,   0.20623159,   0.20147149]), 36, 0)"
      ]
     },
     "execution_count": 66,
     "metadata": {},
     "output_type": "execute_result"
    }
   ],
   "source": [
    "import scipy.optimize as opt\n",
    "result = opt.fmin_tnc(func=compute_cost, x0=initial_theta,\n",
    "                      fprime=compute_gradient, args=(X, y))\n",
    "result\n"
   ]
  },
  {
   "cell_type": "code",
   "execution_count": 71,
   "metadata": {},
   "outputs": [
    {
     "name": "stdout",
     "output_type": "stream",
     "text": [
      "Optimization terminated successfully.\n",
      "         Current function value: 0.203498\n",
      "         Iterations: 51\n",
      "         Function evaluations: 120\n",
      "         Gradient evaluations: 120\n",
      "Conjugate gradient found the following values for theta: [-25.16318502   0.20624648   0.20148659]\n"
     ]
    },
    {
     "name": "stderr",
     "output_type": "stream",
     "text": [
      "/var/folders/qs/q9lqdz8j2612q3_2jy1sdbrc0000gn/T/ipykernel_55614/57588806.py:6: RuntimeWarning: divide by zero encountered in log\n",
      "  J = 1/m * (-y.T @ np.log(h) - (1-y).T @ np.log(1-h))\n",
      "/var/folders/qs/q9lqdz8j2612q3_2jy1sdbrc0000gn/T/ipykernel_55614/57588806.py:6: RuntimeWarning: invalid value encountered in matmul\n",
      "  J = 1/m * (-y.T @ np.log(h) - (1-y).T @ np.log(1-h))\n"
     ]
    }
   ],
   "source": [
    "from scipy.optimize import minimize\n",
    "\n",
    "result = minimize(compute_cost, initial_theta, args=(X, y.reshape(m)),\n",
    "                  method='CG', jac=compute_gradient,\n",
    "                  options={\"maxiter\": 400, \"disp\": 1})\n",
    "theta = result.x\n",
    "print('Conjugate gradient found the following values for theta: {}'.format(theta))\n"
   ]
  },
  {
   "cell_type": "markdown",
   "metadata": {},
   "source": [
    "##### The decision boundary\n",
    "\n",
    "The decision boundary is a line (in case of a 2d plane) that seperates the area where we predict $y=1$ and $y=0$."
   ]
  },
  {
   "cell_type": "code",
   "execution_count": 72,
   "metadata": {},
   "outputs": [
    {
     "data": {
      "text/plain": [
       "<matplotlib.legend.Legend at 0x7f8e1901e320>"
      ]
     },
     "execution_count": 72,
     "metadata": {},
     "output_type": "execute_result"
    },
    {
     "data": {
      "image/png": "[encoded data removed]",
      "text/plain": [
       "<Figure size 432x288 with 1 Axes>"
      ]
     },
     "metadata": {
      "needs_background": "light"
     },
     "output_type": "display_data"
    }
   ],
   "source": [
    "# Find indices of positive and negative examples\n",
    "pos = np.where(y == 1)[0]\n",
    "neg = np.where(y == 0)[0]\n",
    "\n",
    "# Plot examples\n",
    "plt.plot(X[pos, 1], X[pos, 2], 'b+', label='Admitted')\n",
    "plt.plot(X[neg, 1], X[neg, 2], 'yo', label='Not admitted')\n",
    "plt.legend()\n",
    "\n",
    "# Plot the decision boundary\n",
    "plot_x = np.array([min(X[:, 1])-2,  max(X[:, 1])+2])\n",
    "plot_y = (-1./theta[2]) * ((theta[1] * (plot_x) + theta[0]))\n",
    "\n",
    "plt.plot(plot_x, plot_y, label='Decision boundary')\n",
    "\n",
    "# Legend, specific for the exercise\n",
    "plt.legend()\n"
   ]
  },
  {
   "cell_type": "markdown",
   "metadata": {},
   "source": [
    "#### 1.2.4 Evaluating logistic regression\n",
    "\n",
    "After learning the parameters, you can use the model to predict whether a particular student will be admitted. For a student with an Exam 1 score of 45 and an Exam 2 score of 85, you should expect to see an admission probability of 0.776. Another way to evaluate the quality of the parameters we have found is to see how well the learned model predicts on our training set. In this part, your task is to complete the code in `predict`. The predict function will produce '1' or '0' predictions given a dataset and a learned parameter vector $\\theta$.\n",
    "\n",
    "After you have completed the code in predict.m, the code below will proceed to report the training accuracy of your classifier by computing the percentage of examples it got correct. "
   ]
  },
  {
   "cell_type": "code",
   "execution_count": 3,
   "metadata": {},
   "outputs": [
    {
     "ename": "NameError",
     "evalue": "name 'theta' is not defined",
     "output_type": "error",
     "traceback": [
      "\u001b[0;31m---------------------------------------------------------------------------\u001b[0m",
      "\u001b[0;31mNameError\u001b[0m                                 Traceback (most recent call last)",
      "\u001b[1;32m/Users/nick/Developer/personal/ml/coursera/ex2/ex2.ipynb Cell 27'\u001b[0m in \u001b[0;36m<cell line: 2>\u001b[0;34m()\u001b[0m\n\u001b[1;32m      <a href='vscode-notebook-cell:/Users/nick/Developer/personal/ml/coursera/ex2/ex2.ipynb#ch0000026?line=0'>1</a>\u001b[0m \u001b[39m# Predict probability for a student with score 45 on exam 1 and score 85 on exam 2\u001b[39;00m\n\u001b[0;32m----> <a href='vscode-notebook-cell:/Users/nick/Developer/personal/ml/coursera/ex2/ex2.ipynb#ch0000026?line=1'>2</a>\u001b[0m prob \u001b[39m=\u001b[39m sigmoid(np\u001b[39m.\u001b[39marray([\u001b[39m1\u001b[39m, \u001b[39m45\u001b[39m, \u001b[39m85\u001b[39m])\u001b[39m.\u001b[39mdot(theta))\n\u001b[1;32m      <a href='vscode-notebook-cell:/Users/nick/Developer/personal/ml/coursera/ex2/ex2.ipynb#ch0000026?line=2'>3</a>\u001b[0m \u001b[39mprint\u001b[39m(\n\u001b[1;32m      <a href='vscode-notebook-cell:/Users/nick/Developer/personal/ml/coursera/ex2/ex2.ipynb#ch0000026?line=3'>4</a>\u001b[0m     \u001b[39m'\u001b[39m\u001b[39mFor a student with scores 45 and 85, we predict an admission probability of \u001b[39m\u001b[39m{:.2}\u001b[39;00m\u001b[39m'\u001b[39m\u001b[39m.\u001b[39mformat(prob))\n",
      "\u001b[0;31mNameError\u001b[0m: name 'theta' is not defined"
     ]
    }
   ],
   "source": [
    "# Predict probability for a student with score 45 on exam 1 and score 85 on exam 2\n",
    "prob = sigmoid(np.array([1, 45, 85]).dot(theta))\n",
    "print(\n",
    "    'For a student with scores 45 and 85, we predict an admission probability of {:.2}'.format(prob))\n"
   ]
  },
  {
   "cell_type": "markdown",
   "metadata": {},
   "source": [
    "##### Accuracy\n",
    "\n",
    "t's often a good idea to see how well your model trained. You can do that by checking how much datapoints we can predict correctly using . In a real world application, you should consider splitting your data (eg 80% - 20%) and test on data the model has not seen before. This gives you more realistic insight in how your model would perform in the real world - and that's your ultimate goal ;)\n",
    "\n",
    "In this example, we expect a training accuracy of 89.0%."
   ]
  },
  {
   "cell_type": "code",
   "execution_count": 74,
   "metadata": {},
   "outputs": [
    {
     "name": "stdout",
     "output_type": "stream",
     "text": [
      "Training Accuracy: 89.0%\n"
     ]
    }
   ],
   "source": [
    "# Compute accuracy on our training set\n",
    "p = np.zeros((m, 1))\n",
    "for (i, example) in enumerate(X):\n",
    "    prob = sigmoid(np.array(example.dot(theta)))\n",
    "    if prob >= 0.5:\n",
    "        p[i] = 1\n",
    "    else:\n",
    "        p[i] = 0\n",
    "print('Training Accuracy: {}%'.format(np.mean(p == y.reshape((m, 1))) * 100))\n"
   ]
  },
  {
   "cell_type": "markdown",
   "metadata": {},
   "source": [
    "## 2. Regularized logistic regression\n",
    "\n",
    "In this part of the exercise, you will implement regularized logistic regression to predict whether microchips from a fabrication plant passes quality assurance (QA). During QA, each microchip goes through various tests to ensure it is functioning correctly. Suppose you are the product manager of the factory and you have the test results for some microchips on two different tests. From these two tests, you would like to determine whether the microchips should be accepted or rejected. To help you make the decision, you have a dataset of test results on past microchips, from which you can build a logistic regression model."
   ]
  },
  {
   "cell_type": "markdown",
   "metadata": {},
   "source": [
    "### 2.1 Visualizing the data\n",
    "\n",
    "Similar to the previous parts of this exercise, `plotData` is used in the code below to generate a figure like Figure 3, where the axes are the two test scores, and the positive ( $y=1$, accepted) and negative ( $y=0$, rejected) examples are shown with different markers. "
   ]
  },
  {
   "cell_type": "code",
   "execution_count": 3,
   "metadata": {},
   "outputs": [
    {
     "data": {
      "text/html": [
       "<div>\n",
       "<style scoped>\n",
       "    .dataframe tbody tr th:only-of-type {\n",
       "        vertical-align: middle;\n",
       "    }\n",
       "\n",
       "    .dataframe tbody tr th {\n",
       "        vertical-align: top;\n",
       "    }\n",
       "\n",
       "    .dataframe thead th {\n",
       "        text-align: right;\n",
       "    }\n",
       "</style>\n",
       "<table border=\"1\" class=\"dataframe\">\n",
       "  <thead>\n",
       "    <tr style=\"text-align: right;\">\n",
       "      <th></th>\n",
       "      <th>Microchip Test 1</th>\n",
       "      <th>Microchip Test 2</th>\n",
       "      <th>Accepted</th>\n",
       "    </tr>\n",
       "  </thead>\n",
       "  <tbody>\n",
       "    <tr>\n",
       "      <th>0</th>\n",
       "      <td>0.051267</td>\n",
       "      <td>0.69956</td>\n",
       "      <td>1</td>\n",
       "    </tr>\n",
       "    <tr>\n",
       "      <th>1</th>\n",
       "      <td>-0.092742</td>\n",
       "      <td>0.68494</td>\n",
       "      <td>1</td>\n",
       "    </tr>\n",
       "    <tr>\n",
       "      <th>2</th>\n",
       "      <td>-0.213710</td>\n",
       "      <td>0.69225</td>\n",
       "      <td>1</td>\n",
       "    </tr>\n",
       "    <tr>\n",
       "      <th>3</th>\n",
       "      <td>-0.375000</td>\n",
       "      <td>0.50219</td>\n",
       "      <td>1</td>\n",
       "    </tr>\n",
       "    <tr>\n",
       "      <th>4</th>\n",
       "      <td>-0.513250</td>\n",
       "      <td>0.46564</td>\n",
       "      <td>1</td>\n",
       "    </tr>\n",
       "  </tbody>\n",
       "</table>\n",
       "</div>"
      ],
      "text/plain": [
       "   Microchip Test 1  Microchip Test 2  Accepted\n",
       "0          0.051267           0.69956         1\n",
       "1         -0.092742           0.68494         1\n",
       "2         -0.213710           0.69225         1\n",
       "3         -0.375000           0.50219         1\n",
       "4         -0.513250           0.46564         1"
      ]
     },
     "execution_count": 3,
     "metadata": {},
     "output_type": "execute_result"
    }
   ],
   "source": [
    "# start by loading the data\n",
    "data = pd.read_csv('ex2data2.txt', header=None, names=[\n",
    "                   \"Microchip Test 1\", \"Microchip Test 2\", \"Accepted\"])\n",
    "data.head()"
   ]
  },
  {
   "cell_type": "code",
   "execution_count": 4,
   "metadata": {},
   "outputs": [
    {
     "name": "stdout",
     "output_type": "stream",
     "text": [
      "(118, 2) (118, 1)\n"
     ]
    },
    {
     "data": {
      "text/plain": [
       "(array([[ 0.051267,  0.69956 ],\n",
       "        [-0.092742,  0.68494 ],\n",
       "        [-0.21371 ,  0.69225 ],\n",
       "        [-0.375   ,  0.50219 ],\n",
       "        [-0.51325 ,  0.46564 ]]),\n",
       " array([[1],\n",
       "        [1],\n",
       "        [1],\n",
       "        [1],\n",
       "        [1]]))"
      ]
     },
     "execution_count": 4,
     "metadata": {},
     "output_type": "execute_result"
    }
   ],
   "source": [
    "m = len(data)\n",
    "\n",
    "X = np.append(np.array(data[\"Microchip Test 1\"]).reshape(\n",
    "    (m, 1)), np.array(data[\"Microchip Test 2\"]).reshape((m, 1)), axis=1)\n",
    "y = np.array(data[\"Accepted\"]).reshape((m, 1))\n",
    "\n",
    "print(X.shape, y.shape)\n",
    "X[:5], y[:5]\n"
   ]
  },
  {
   "cell_type": "code",
   "execution_count": 7,
   "metadata": {},
   "outputs": [
    {
     "data": {
      "image/png": "[encoded data removed]",
      "text/plain": [
       "<Figure size 432x288 with 1 Axes>"
      ]
     },
     "metadata": {
      "needs_background": "light"
     },
     "output_type": "display_data"
    }
   ],
   "source": [
    "# Find indices of positive and negative examples\n",
    "pos = np.where(y == 1)[0]\n",
    "neg = np.where(y == 0)[0]\n",
    "\n",
    "# Plot examples\n",
    "plt.plot(X[pos, 0], X[pos, 1], 'k+', linewidth=2,\n",
    "         markersize=7, label='Admitted')\n",
    "plt.plot(X[neg, 0], X[neg, 1], 'ko', markerfacecolor='y',\n",
    "         markersize=7, label='Not Admitted')\n",
    "plt.xlabel('Microchip Test 1')\n",
    "plt.ylabel('Microchip Test 2')\n",
    "plt.legend(loc='upper right')\n",
    "plt.title('Figure 3: Plot of training data')\n",
    "plt.show()"
   ]
  },
  {
   "cell_type": "markdown",
   "metadata": {},
   "source": [
    "Figure 3 shows that our dataset cannot be separated into positive and negative examples by a straight-line through the plot. Therefore, a straightforward application of logistic regression will not perform well on this dataset since logistic regression will only be able to find a linear decision boundary."
   ]
  },
  {
   "cell_type": "markdown",
   "metadata": {},
   "source": [
    "### 2.2 Feature mapping\n",
    "\n",
    "One way to fit the data better is to create more features from each data point. In the provided function `mapFeature`, we will map the features into all polynomial terms of $x1$ and $x2$ up to the sixth power.\n",
    "\n",
    "$$\n",
    "mapFeature(x) = \\begin{bmatrix} 1 \\newline\n",
    "                x_1 \\newline\n",
    "                x_2 \\newline\n",
    "                x_1^2 \\newline\n",
    "                x_1 x_2 \\newline\n",
    "                x_2^2 \\newline\n",
    "                x_1^3 \\newline\n",
    "                \\vdots \\newline\n",
    "                x_1 x_2^5 \\newline\n",
    "                x_2^6 \\newline\n",
    "                \\end{bmatrix}\n",
    "$$\n",
    "\n",
    "As a result of this mapping, our vector of two features (the scores on two QA tests) has been transformed into a 28-dimensional vector. A logistic regression classifier trained on this higher-dimension feature vector will have a more complex decision boundary and will appear nonlinear when drawn in our 2-dimensional plot. \n",
    "\n",
    "Run the code below to map the features."
   ]
  },
  {
   "cell_type": "code",
   "execution_count": 5,
   "metadata": {},
   "outputs": [],
   "source": [
    "def mapFeature(X1, X2, degree):\n",
    "# MAPFEATURE Feature mapping function to polynomial features\n",
    "#\n",
    "#   MAPFEATURE(X1, X2) maps the two input features\n",
    "#   to quadratic features used in the regularization exercise.\n",
    "#\n",
    "#   Returns a new feature array with more features, comprising of\n",
    "#   X1, X2, X1. ^ 2, X2. ^ 2, X1*X2, X1*X2. ^ 2, etc..\n",
    "#\n",
    "#   Inputs X1, X2 must be the same size\n",
    "#\n",
    "    if not type(X1) == np.ndarray:\n",
    "        X1 = np.array([X1])\n",
    "\n",
    "    if not type(X2) == np.ndarray:\n",
    "        X2 = np.array([X2])\n",
    "\n",
    "    assert X1.shape == X2.shape\n",
    "\n",
    "    out = np.ones((len(X1), 1))\n",
    "    for i in range(1, degree + 1):\n",
    "        for j in range(i + 1):\n",
    "            new = (X1 ** (i - j) * (X2 ** j)).reshape(len(X1), 1)\n",
    "            out = np.hstack((out, new))\n",
    "    \n",
    "    return out"
   ]
  },
  {
   "cell_type": "code",
   "execution_count": 6,
   "metadata": {},
   "outputs": [
    {
     "name": "stdout",
     "output_type": "stream",
     "text": [
      "(118, 28)\n"
     ]
    }
   ],
   "source": [
    "# Add Polynomial Features\n",
    "# Note that mapFeature also adds a column of ones for us, so the intercept term is handled\n",
    "X = mapFeature(X[:,0], X[:,1], degree=6)\n",
    "m, n = X.shape\n",
    "print(X.shape)"
   ]
  },
  {
   "cell_type": "markdown",
   "metadata": {},
   "source": [
    "While the feature mapping allows us to build a more expressive classifier, it also more susceptible to overfitting. In the next parts of the exercise, you will implement regularized logistic regression to fit the data and also see for yourself how regularization can help combat the overfitting problem."
   ]
  },
  {
   "cell_type": "markdown",
   "metadata": {},
   "source": [
    "### 2.3 Cost function and gradient\n",
    "\n",
    "Now you will implement code to compute the cost function and gradient for regularized logistic regression. Complete the code in `costFunctionReg` to return the cost and gradient. Recall that the regularized cost function in logistic regression is\n",
    "\n",
    "$$\n",
    "J(\\theta) = \\frac{1}{m} \\sum_{i=1}^m \\large[ - y^{(i)}\\ \\log (h_\\theta (x^{(i)})) - (1 - y^{(i)})\\ \\log (1 - h_\\theta(x^{(i)}))\\large] + \\frac{\\lambda}{2m}\\sum_{j=1}^n \\theta_j^2\n",
    "$$\n",
    "\n",
    "Note that you should not regularize the parameter $\\theta_0$. In Python, recall that indexing starts from 1, hence, you should not be regularizing the theta(1) parameter (which corresponds to $\\theta_0$) in the code. The gradient of the cost function is a vector where the  element is defined as follows:\n",
    "\n",
    "$$\n",
    "\\begin{align*}\n",
    "\\frac{\\partial J(\\theta)}{\\partial \\theta_j} = \\frac{1}{m}\\sum_{i=1}^m \\left ( h_\\theta(x^{(i)}) - y^{(i)} \\right ) x^{(i)}_j \\qquad \\text{for } j = 0, \\newline\n",
    "\\frac{\\partial J(\\theta)}{\\partial \\theta_j} = \\left ( \\frac{1}{m}\\sum_{i=1}^m ( h_\\theta(x^{(i)}) - y^{(i)} ) x^{(i)}_j \\right ) + \\frac{\\lambda}{m}\\theta_j \\qquad \\text{for } j \\geq 1,\n",
    "\\end{align*}\n",
    "$$\n",
    "\n",
    "Once you are done, run the code below to call your `costFunctionReg` function using the initial value of $\\theta$ (initialized to all zeros). You should see that the cost is about 0.693 for all-zero $\\theta$ and 3.16 for the non-zero $\\theta$ test case."
   ]
  },
  {
   "cell_type": "markdown",
   "metadata": {},
   "source": [
    "Gradient descent, just like the cost function, is slightly modified for regularization.\n",
    "\n",
    "For $\\theta_j$ where $j=0$:\n",
    "$$\n",
    "\\theta_j := \\theta_j -\\alpha \\begin{bmatrix}\\frac{1}{m}\\displaystyle\\sum_{i=1}^{m}(h_\\theta(x^{(i)}-y^{(i)}){x_0}^{(i)}\\end{bmatrix}\n",
    "$$\n",
    "For $\\theta_j$ where $j \\in \\{1, 2, ..., n\\}$:\n",
    "$$\n",
    "\\theta_j := \\theta_j -\\alpha \\begin{bmatrix}\\frac{1}{m}\\displaystyle\\sum_{i=1}^{m}(h_\\theta(x^{(i)}-y^{(i)})x_j^{(i)} + \\frac{\\lambda}{m}{\\theta_j} \\end{bmatrix}\n",
    "$$\n",
    "**Note that we don't penalize our bias vector $X_1$**."
   ]
  },
  {
   "cell_type": "code",
   "execution_count": 8,
   "metadata": {},
   "outputs": [],
   "source": [
    "def costFunctionReg(theta, X, y, _lambda):\n",
    "    m = len(y)\n",
    "    h = sigmoid(X @ theta)\n",
    "    reg = (_lambda/(2*m)) * (theta[1:].T @ theta[1:])\n",
    "    J = 1/m * (-y.T @ np.log(h) - (1-y).T @ np.log(1-h)) + reg\n",
    "    \n",
    "    grad_reg = _lambda/m * theta\n",
    "    grad_reg[0] = 0\n",
    "    grad = 1/m * X.T @ (h - y.reshape(m,1)) + grad_reg\n",
    "\n",
    "    return J, grad"
   ]
  },
  {
   "cell_type": "code",
   "execution_count": 7,
   "metadata": {},
   "outputs": [],
   "source": [
    "# Original cost_function returns the cost and gradient, but we want to use scipy's minimize function, so we need to write a wrapper function.\n",
    "\n",
    "def compute_regularized_cost(theta, X, y, _lambda):\n",
    "    m,n = X.shape\n",
    "    theta = theta.reshape((n,1))\n",
    "    y = y.reshape((m,1))\n",
    "    h = sigmoid(X @ theta)\n",
    "    reg = (_lambda/(2*m)) * (theta[1:].T @ theta[1:])\n",
    "    J = 1/m * (-y.T @ np.log(h) - (1-y).T @ np.log(1-h)) + reg\n",
    "    return J\n",
    "\n",
    "def compute_regularized_gradient(theta, X, y, _lambda):\n",
    "    m, n = X.shape\n",
    "    theta = theta.reshape((n,1))\n",
    "    y = y.reshape((m,1))\n",
    "    h = sigmoid(X @ theta)\n",
    "    reg = _lambda/m * theta\n",
    "    reg[0] = 0\n",
    "    grad = 1/m * X.T @ (h - y.reshape(m, 1)) + reg\n",
    "    return grad.reshape((n,))"
   ]
  },
  {
   "cell_type": "code",
   "execution_count": 24,
   "metadata": {},
   "outputs": [
    {
     "name": "stdout",
     "output_type": "stream",
     "text": [
      "Cost at initial theta (zeros): [[0.69314718]]\n",
      "Gradient at initial theta (zeros) - first five values only: [[8.47457627e-03]\n",
      " [1.87880932e-02]\n",
      " [7.77711864e-05]\n",
      " [5.03446395e-02]\n",
      " [1.15013308e-02]]\n"
     ]
    }
   ],
   "source": [
    "# Initialize fitting parameters\n",
    "m, n = X.shape\n",
    "initial_theta = np.zeros((n, 1))\n",
    "\n",
    "# Set regularization parameter lambda to 1\n",
    "_lambda = 1\n",
    "\n",
    "# Compute and display initial cost and gradient for regularized logistic regression\n",
    "cost, grad = costFunctionReg(initial_theta, X, y, _lambda)\n",
    "print('Cost at initial theta (zeros): {}' .format(cost))\n",
    "print(\n",
    "    'Gradient at initial theta (zeros) - first five values only: {}'.format(grad[0:5]))\n"
   ]
  },
  {
   "cell_type": "markdown",
   "metadata": {},
   "source": [
    "**Exercise:** Implement compute_regularized_gradient."
   ]
  },
  {
   "cell_type": "code",
   "execution_count": 12,
   "metadata": {},
   "outputs": [
    {
     "name": "stdout",
     "output_type": "stream",
     "text": [
      "Cost at initial theta (zeros): [[3.16450933]]\n",
      "Gradient at initial theta (zeros) - first five values only: \n",
      "[[0.34604507]\n",
      " [0.16135192]\n",
      " [0.19479576]\n",
      " [0.22686278]\n",
      " [0.09218568]]\n"
     ]
    }
   ],
   "source": [
    "test_theta = np.ones((n, 1))\n",
    "\n",
    "t_cost, t_grad = costFunctionReg(test_theta, X, y, 10)\n",
    "\n",
    "print('Cost at initial theta (zeros): {}'.format(t_cost))\n",
    "print(\n",
    "    'Gradient at initial theta (zeros) - first five values only: \\n{}'.format(t_grad[:5]))\n"
   ]
  },
  {
   "cell_type": "markdown",
   "metadata": {},
   "source": [
    "#### 2.3.1 Learning parameters using fminunc\n",
    "\n",
    "Similar to the previous parts, the next step is to use fminunc to learn the optimal parameters. If you have completed the cost and gradient for regularized logistic regression (`costFunctionReg`) correctly, you should be able to run the code in the following sections to learn the parameters using fminunc for multiple values of $\\lambda$."
   ]
  },
  {
   "cell_type": "code",
   "execution_count": 10,
   "metadata": {},
   "outputs": [
    {
     "name": "stdout",
     "output_type": "stream",
     "text": [
      "Optimization terminated successfully.\n",
      "         Current function value: 0.529003\n",
      "         Iterations: 28\n",
      "         Function evaluations: 76\n",
      "         Gradient evaluations: 76\n",
      "Conjugate gradient found the following values for theta - first five values only: [ 1.27278161  0.62533884  1.18105652 -2.02009622 -0.91762258]\n"
     ]
    }
   ],
   "source": [
    "from scipy.optimize import minimize\n",
    "\n",
    "initial_theta = np.ones(n)\n",
    "_lambda = 1\n",
    "result = minimize(compute_regularized_cost, initial_theta, args=(X, y, _lambda),\n",
    "                  method='CG', jac=compute_regularized_gradient,\n",
    "                  options={\"maxiter\": 400, \"disp\": 1})\n",
    "theta = result.x\n",
    "print(\n",
    "    'Conjugate gradient found the following values for theta - first five values only: {}'.format(theta[:5]))\n"
   ]
  },
  {
   "cell_type": "markdown",
   "metadata": {},
   "source": [
    "### Plotting the decision boundary\n",
    "\n",
    "To help you visualize the model learned by this classifier, we have provided the function `plotDecisionBoundary` which plots the (nonlinear) decision boundary that separates the positive and negative examples. In `plotDecisionBoundary`, we plot the nonlinear decision boundary by computing the classifier's predictions on an evenly spaced grid and then drew a contour plot of where the predictions change from $y=0$ to $y=1$. After learning the parameters, the code in the next section will plot a decision boundary similar to Figure 4.\n",
    "\n",
    "We can plot a more complex decision boundary using `np.linspace` and `contour`."
   ]
  },
  {
   "cell_type": "code",
   "execution_count": 16,
   "metadata": {},
   "outputs": [
    {
     "data": {
      "text/plain": [
       "<matplotlib.contour.QuadContourSet at 0x7f8a70a7dcf0>"
      ]
     },
     "execution_count": 16,
     "metadata": {},
     "output_type": "execute_result"
    },
    {
     "data": {
      "image/png": "[encoded data removed]",
      "text/plain": [
       "<Figure size 432x288 with 1 Axes>"
      ]
     },
     "metadata": {
      "needs_background": "light"
     },
     "output_type": "display_data"
    }
   ],
   "source": [
    "# Find indices of positive and negative examples\n",
    "pos = np.where(y == 1)[0]\n",
    "neg = np.where(y == 0)[0]\n",
    "\n",
    "# Plot examples\n",
    "plt.plot(X[pos, 1], X[pos, 2], 'b+', label='Admitted')\n",
    "plt.plot(X[neg, 1], X[neg, 2], 'yo', label='Not admitted')\n",
    "plt.legend()\n",
    "\n",
    "# Here is the grid range\n",
    "u = np.linspace(-1, 1.5, 50).reshape(50)\n",
    "v = np.linspace(-1, 1.5, 50).reshape(50)\n",
    "z = np.zeros((len(u), len(v)))\n",
    "\n",
    "# Evaluate z = theta*x over the grid\n",
    "for i in range(len(u)):\n",
    "    for j in range(len(v)):\n",
    "        z[i, j] = mapFeature(u[i], v[j], degree=6).dot(theta)\n",
    "\n",
    "# Plot z = 0\n",
    "# Notice you need to specify the range [0, 0]\n",
    "#z = z.reshape(len(u), len(v))\n",
    "plt.contour(u, v, z.T, 0)\n"
   ]
  },
  {
   "cell_type": "markdown",
   "metadata": {},
   "source": [
    "## Exploring regularization\n",
    "\n",
    "As mentioned before, $\\lambda$ is used to control the problem of overfitting. In the following graphs, models trained with different values of lambda are shown to give you some intuition on the problem of over/underfitting."
   ]
  },
  {
   "cell_type": "code",
   "execution_count": 11,
   "metadata": {},
   "outputs": [],
   "source": [
    "def create_plot_for_lambda(X, y, _lambda):\n",
    "    from scipy.optimize import minimize\n",
    "    result = minimize(compute_regularized_cost, initial_theta, args=(X, y, _lambda),\n",
    "                      method='CG', jac=compute_regularized_gradient,\n",
    "                      options={\"maxiter\": 400, \"disp\": 1})\n",
    "    theta = result.x\n",
    "    print(\n",
    "        'Conjugate gradient found the following values for theta - first five values only: {}'.format(theta[:5]))\n",
    "\n",
    "    # Find indices of positive and negative examples\n",
    "    pos = np.where(y == 1)[0]\n",
    "    neg = np.where(y == 0)[0]\n",
    "\n",
    "    # Plot examples\n",
    "    plt.plot(X[pos, 1], X[pos, 2], 'b+', label='Admitted')\n",
    "    plt.plot(X[neg, 1], X[neg, 2], 'yo', label='Not admitted')\n",
    "    plt.legend()\n",
    "\n",
    "    # Here is the grid range\n",
    "    u = np.linspace(-1, 1.5, 50).reshape(50)\n",
    "    v = np.linspace(-1, 1.5, 50).reshape(50)\n",
    "    z = np.zeros((len(u), len(v)))\n",
    "\n",
    "    # Evaluate z = theta*x over the grid\n",
    "    for i in range(len(u)):\n",
    "        for j in range(len(v)):\n",
    "            z[i, j] = mapFeature(u[i], v[j], degree=6).dot(theta)\n",
    "\n",
    "    # Plot z = 0\n",
    "    # Notice you need to specify the range [0, 0]\n",
    "    #z = z.reshape(len(u), len(v))\n",
    "    plt.contour(u, v, z.T, 0)\n"
   ]
  },
  {
   "cell_type": "markdown",
   "metadata": {},
   "source": [
    "### Overfitting\n",
    "\n",
    "Remember: overfitting means the model probably only works on the training set and not well in the real world. If you model is overfit, consider adding regularization or choosing a higher value for $\\lambda$.\n",
    "\n",
    "You can check out other values of $\\lambda$ yourself."
   ]
  },
  {
   "cell_type": "code",
   "execution_count": 21,
   "metadata": {},
   "outputs": [
    {
     "name": "stdout",
     "output_type": "stream",
     "text": [
      "Warning: Maximum number of iterations has been exceeded.\n",
      "         Current function value: 0.278667\n",
      "         Iterations: 400\n",
      "         Function evaluations: 1446\n",
      "         Gradient evaluations: 1446\n",
      "Conjugate gradient found the following values for theta - first five values only: [ 2.25892333 -2.22391391  0.9968203  -8.09416038 -7.61978502]\n"
     ]
    },
    {
     "data": {
      "image/png": "[encoded data removed]",
      "text/plain": [
       "<Figure size 432x288 with 1 Axes>"
      ]
     },
     "metadata": {
      "needs_background": "light"
     },
     "output_type": "display_data"
    }
   ],
   "source": [
    "create_plot_for_lambda(X, y, 0)"
   ]
  },
  {
   "cell_type": "markdown",
   "metadata": {},
   "source": [
    "### Underfitting\n",
    "\n",
    "Underfitting means the model is not well trained. Having a high $\\lambda$ can cause underfitting."
   ]
  },
  {
   "cell_type": "code",
   "execution_count": 19,
   "metadata": {},
   "outputs": [
    {
     "name": "stdout",
     "output_type": "stream",
     "text": [
      "Optimization terminated successfully.\n",
      "         Current function value: 0.648216\n",
      "         Iterations: 14\n",
      "         Function evaluations: 29\n",
      "         Gradient evaluations: 29\n",
      "Conjugate gradient found the following values for theta - first five values only: [ 0.326144   -0.00815789  0.16580133 -0.44666092 -0.11177511]\n"
     ]
    },
    {
     "data": {
      "image/png": "[encoded data removed]",
      "text/plain": [
       "<Figure size 432x288 with 1 Axes>"
      ]
     },
     "metadata": {
      "needs_background": "light"
     },
     "output_type": "display_data"
    }
   ],
   "source": [
    "create_plot_for_lambda(X, y, 10)"
   ]
  },
  {
   "cell_type": "markdown",
   "metadata": {},
   "source": [
    "### Underfitting^2\n",
    "\n",
    "This is what model trained with an extremely high value of $\\lambda$ looks like:"
   ]
  },
  {
   "cell_type": "code",
   "execution_count": 12,
   "metadata": {},
   "outputs": [
    {
     "name": "stdout",
     "output_type": "stream",
     "text": [
      "Optimization terminated successfully.\n",
      "         Current function value: 0.687913\n",
      "         Iterations: 10\n",
      "         Function evaluations: 22\n",
      "         Gradient evaluations: 22\n",
      "Conjugate gradient found the following values for theta - first five values only: [[ 0.00980668 -0.01412537  0.00377853 -0.042739   -0.01022205 -0.03014124\n",
      "  -0.01463056 -0.00604095 -0.00696047 -0.01809063 -0.03371293 -0.00186483\n",
      "  -0.01097168 -0.00272976 -0.03239042 -0.01649585 -0.00367154 -0.00281145\n",
      "  -0.00492208 -0.00389909 -0.02514883 -0.02655998 -0.00086207 -0.00544171\n",
      "  -0.00031198 -0.00619701 -0.00121111 -0.03215613]]\n"
     ]
    },
    {
     "ename": "ValueError",
     "evalue": "shapes (1,28) and (1,28) not aligned: 28 (dim 1) != 1 (dim 0)",
     "output_type": "error",
     "traceback": [
      "\u001b[0;31m---------------------------------------------------------------------------\u001b[0m",
      "\u001b[0;31mValueError\u001b[0m                                Traceback (most recent call last)",
      "\u001b[1;32m/Users/nick/Developer/personal/ml/coursera/ex2/ex2.ipynb Cell 58'\u001b[0m in \u001b[0;36m<cell line: 1>\u001b[0;34m()\u001b[0m\n\u001b[0;32m----> <a href='vscode-notebook-cell:/Users/nick/Developer/personal/ml/coursera/ex2/ex2.ipynb#ch0000057?line=0'>1</a>\u001b[0m create_plot_for_lambda(X, y, \u001b[39m130\u001b[39;49m)\n",
      "\u001b[1;32m/Users/nick/Developer/personal/ml/coursera/ex2/ex2.ipynb Cell 52'\u001b[0m in \u001b[0;36mcreate_plot_for_lambda\u001b[0;34m(X, y, _lambda)\u001b[0m\n\u001b[1;32m     <a href='vscode-notebook-cell:/Users/nick/Developer/personal/ml/coursera/ex2/ex2.ipynb#ch0000051?line=24'>25</a>\u001b[0m \u001b[39mfor\u001b[39;00m i \u001b[39min\u001b[39;00m \u001b[39mrange\u001b[39m(\u001b[39mlen\u001b[39m(u)):\n\u001b[1;32m     <a href='vscode-notebook-cell:/Users/nick/Developer/personal/ml/coursera/ex2/ex2.ipynb#ch0000051?line=25'>26</a>\u001b[0m     \u001b[39mfor\u001b[39;00m j \u001b[39min\u001b[39;00m \u001b[39mrange\u001b[39m(\u001b[39mlen\u001b[39m(v)):\n\u001b[0;32m---> <a href='vscode-notebook-cell:/Users/nick/Developer/personal/ml/coursera/ex2/ex2.ipynb#ch0000051?line=26'>27</a>\u001b[0m         z[i, j] \u001b[39m=\u001b[39m mapFeature(u[i], v[j], degree\u001b[39m=\u001b[39;49m\u001b[39m6\u001b[39;49m)\u001b[39m.\u001b[39;49mdot(theta)\n\u001b[1;32m     <a href='vscode-notebook-cell:/Users/nick/Developer/personal/ml/coursera/ex2/ex2.ipynb#ch0000051?line=28'>29</a>\u001b[0m \u001b[39m# Plot z = 0\u001b[39;00m\n\u001b[1;32m     <a href='vscode-notebook-cell:/Users/nick/Developer/personal/ml/coursera/ex2/ex2.ipynb#ch0000051?line=29'>30</a>\u001b[0m \u001b[39m# Notice you need to specify the range [0, 0]\u001b[39;00m\n\u001b[1;32m     <a href='vscode-notebook-cell:/Users/nick/Developer/personal/ml/coursera/ex2/ex2.ipynb#ch0000051?line=30'>31</a>\u001b[0m \u001b[39m#z = z.reshape(len(u), len(v))\u001b[39;00m\n\u001b[1;32m     <a href='vscode-notebook-cell:/Users/nick/Developer/personal/ml/coursera/ex2/ex2.ipynb#ch0000051?line=31'>32</a>\u001b[0m plt\u001b[39m.\u001b[39mcontour(u, v, z\u001b[39m.\u001b[39mT, \u001b[39m0\u001b[39m)\n",
      "\u001b[0;31mValueError\u001b[0m: shapes (1,28) and (1,28) not aligned: 28 (dim 1) != 1 (dim 0)"
     ]
    },
    {
     "data": {
      "image/png": "[encoded data removed]",
      "text/plain": [
       "<Figure size 432x288 with 1 Axes>"
      ]
     },
     "metadata": {
      "needs_background": "light"
     },
     "output_type": "display_data"
    }
   ],
   "source": [
    "create_plot_for_lambda(X, y, 130)"
   ]
  },
  {
   "cell_type": "markdown",
   "metadata": {},
   "source": [
    "## Adjusted normal equation\n",
    "\n",
    "As you would have expected, the normal equation changes when you add normalization to your machine learning model. The adjusted version of the normal equation:\n",
    "\n",
    "$$\n",
    "\\theta=(X^TX+\\lambda\\begin{bmatrix} 0&\\dotsi&\\dotsi&\\dotsi &0\\\\\\vdots &1&0& 0 & \\vdots&\\\\\\vdots&0&1 &0 & \\vdots\\\\\\vdots&0&0&1&\\vdots\\\\0&\\dotsi&\\dotsi&\\dotsi&1 \\end{bmatrix})^{-1}X^Ty\n",
    "$$\n",
    "\n",
    "If $m < n$, $X$ is non-invertable."
   ]
  },
  {
   "cell_type": "code",
   "execution_count": 13,
   "metadata": {},
   "outputs": [
    {
     "data": {
      "text/plain": [
       "array([[ 0.94416708],\n",
       "       [ 0.2315894 ],\n",
       "       [ 0.41142826],\n",
       "       [-0.7380916 ],\n",
       "       [-0.50116657],\n",
       "       [-0.69193639],\n",
       "       [ 0.1003575 ],\n",
       "       [-0.10718673],\n",
       "       [-0.06667559],\n",
       "       [-0.05556887],\n",
       "       [-0.45471969],\n",
       "       [ 0.09321721],\n",
       "       [-0.23956536],\n",
       "       [-0.07088082],\n",
       "       [-0.40279421],\n",
       "       [ 0.04618662],\n",
       "       [-0.01432296],\n",
       "       [ 0.04153635],\n",
       "       [-0.10356044],\n",
       "       [-0.02654812],\n",
       "       [ 0.05619122],\n",
       "       [-0.18296629],\n",
       "       [ 0.12363998],\n",
       "       [-0.11445861],\n",
       "       [ 0.06788982],\n",
       "       [-0.10602358],\n",
       "       [ 0.04149463],\n",
       "       [-0.05781815]])"
      ]
     },
     "execution_count": 13,
     "metadata": {},
     "output_type": "execute_result"
    }
   ],
   "source": [
    "L = np.eye(n)\n",
    "\n",
    "L[0] = 0\n",
    "\n",
    "_lambda = 1\n",
    "\n",
    "theta = np.linalg.inv(X.T @ X + _lambda * L)@X.T@y\n",
    "theta\n"
   ]
  }
 ],
 "metadata": {
  "interpreter": {
   "hash": "76f7131bf59f4e841aae4e173f1fa24219e7ed376a12263667a9fcfa3f75c7b5"
  },
  "kernelspec": {
   "display_name": "Python 3.10.0 ('darn')",
   "language": "python",
   "name": "python3"
  },
  "language_info": {
   "codemirror_mode": {
    "name": "ipython",
    "version": 3
   },
   "file_extension": ".py",
   "mimetype": "text/x-python",
   "name": "python",
   "nbconvert_exporter": "python",
   "pygments_lexer": "ipython3",
   "version": "3.10.0"
  },
  "orig_nbformat": 4
 },
 "nbformat": 4,
 "nbformat_minor": 2
}
